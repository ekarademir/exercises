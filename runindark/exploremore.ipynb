{
 "cells": [
  {
   "cell_type": "code",
   "execution_count": 15,
   "metadata": {
    "collapsed": true
   },
   "outputs": [],
   "source": [
    "import pandas as pd\n",
    "import matplotlib.pyplot as plt\n",
    "from matplotlib import style\n",
    "import numpy as np\n",
    "import json\n",
    "import codecs\n",
    "from os import listdir\n",
    "style.use('ggplot')\n",
    "%matplotlib inline"
   ]
  },
  {
   "cell_type": "code",
   "execution_count": 5,
   "metadata": {
    "collapsed": false
   },
   "outputs": [
    {
     "data": {
      "text/plain": [
       "['BelfastRID_2012_10k.json',\n",
       " 'BelfastRID_2012_5k.json',\n",
       " 'BelfastRID_2013_10k.json',\n",
       " 'BelfastRID_2013_5k.json',\n",
       " 'BelfastRID_2014_10k.json',\n",
       " 'BelfastRID_2014_5k.json',\n",
       " 'BelfastRID_2015_10k.json',\n",
       " 'BelfastRID_2015_5k.json',\n",
       " 'BelfastRID_2016_10k.json',\n",
       " 'BelfastRID_2016_5k.json',\n",
       " 'CorkRID_2012_10k.json',\n",
       " 'CorkRID_2012_5k.json',\n",
       " 'CorkRID_2013_10k.json',\n",
       " 'CorkRID_2013_5k.json',\n",
       " 'CorkRID_2014_10k.json',\n",
       " 'CorkRID_2014_5k.json',\n",
       " 'CorkRID_2015_10k.json',\n",
       " 'CorkRID_2015_5k.json',\n",
       " 'CorkRID_2016_10k.json',\n",
       " 'CorkRID_2016_5k.json',\n",
       " 'DRID_2012_10k.json',\n",
       " 'DRID_2012_5k.json',\n",
       " 'DRID_2013_10k.json',\n",
       " 'DRID_2013_5k.json',\n",
       " 'DRID_2014_10k.json',\n",
       " 'DRID_2014_5k.json',\n",
       " 'DRID_2015_10k.json',\n",
       " 'DRID_2015_5k.json',\n",
       " 'DRID_2016_10k.json',\n",
       " 'DRID_2016_5k.json',\n",
       " 'LondonRID_2012_10k.json',\n",
       " 'LondonRID_2012_5k.json',\n",
       " 'LondonRID_2013_10k.json',\n",
       " 'LondonRID_2013_5k.json',\n",
       " 'LondonRID_2014_10k.json',\n",
       " 'LondonRID_2014_5k.json',\n",
       " 'LondonRID_2015_10k.json',\n",
       " 'LondonRID_2015_5k.json',\n",
       " 'LondonRID_2016_10k.json',\n",
       " 'LondonRID_2016_5k.json',\n",
       " 'ManchesterRID_2013_10k.json',\n",
       " 'ManchesterRID_2013_5k.json',\n",
       " 'ManchesterRID_2014_10k.json',\n",
       " 'ManchesterRID_2014_5k.json',\n",
       " 'ManchesterRID_2015_10k.json',\n",
       " 'ManchesterRID_2015_5k.json',\n",
       " 'ManchesterRID_2016_10k.json',\n",
       " 'ManchesterRID_2016_5k.json']"
      ]
     },
     "execution_count": 5,
     "metadata": {},
     "output_type": "execute_result"
    }
   ],
   "source": [
    "listdir('./data')"
   ]
  },
  {
   "cell_type": "code",
   "execution_count": 6,
   "metadata": {
    "collapsed": true
   },
   "outputs": [],
   "source": [
    "with codecs.open('./data/DRID_2016_5k.json', mode='r', encoding='utf-8') as f:\n",
    "    data = f.read()"
   ]
  },
  {
   "cell_type": "code",
   "execution_count": 7,
   "metadata": {
    "collapsed": true
   },
   "outputs": [],
   "source": [
    "dfDublin5k2016 = pd.read_json(data[8:-1])"
   ]
  },
  {
   "cell_type": "code",
   "execution_count": 8,
   "metadata": {
    "collapsed": false
   },
   "outputs": [
    {
     "data": {
      "text/plain": [
       "bib            4136\n",
       "chip_time      3309\n",
       "club           1809\n",
       "finish_time    3309\n",
       "first_name     4135\n",
       "gender         4136\n",
       "gender_pos     4136\n",
       "last_name      4133\n",
       "rank           4136\n",
       "dtype: int64"
      ]
     },
     "execution_count": 8,
     "metadata": {},
     "output_type": "execute_result"
    }
   ],
   "source": [
    "dfDublin5k2016.count()"
   ]
  },
  {
   "cell_type": "code",
   "execution_count": 18,
   "metadata": {
    "collapsed": false
   },
   "outputs": [],
   "source": [
    "dfDublin5k2016.set_index('bib',inplace=True)"
   ]
  },
  {
   "cell_type": "code",
   "execution_count": 19,
   "metadata": {
    "collapsed": false
   },
   "outputs": [
    {
     "data": {
      "text/html": [
       "<div>\n",
       "<table border=\"1\" class=\"dataframe\">\n",
       "  <thead>\n",
       "    <tr style=\"text-align: right;\">\n",
       "      <th></th>\n",
       "      <th>chip_time</th>\n",
       "      <th>club</th>\n",
       "      <th>finish_time</th>\n",
       "      <th>first_name</th>\n",
       "      <th>gender</th>\n",
       "      <th>gender_pos</th>\n",
       "      <th>last_name</th>\n",
       "      <th>rank</th>\n",
       "    </tr>\n",
       "    <tr>\n",
       "      <th>bib</th>\n",
       "      <th></th>\n",
       "      <th></th>\n",
       "      <th></th>\n",
       "      <th></th>\n",
       "      <th></th>\n",
       "      <th></th>\n",
       "      <th></th>\n",
       "      <th></th>\n",
       "    </tr>\n",
       "  </thead>\n",
       "  <tbody>\n",
       "    <tr>\n",
       "      <th>8609</th>\n",
       "      <td>00:16:04</td>\n",
       "      <td>Clonliffe Harriers</td>\n",
       "      <td>2016-11-17 00:16:06</td>\n",
       "      <td>Richard</td>\n",
       "      <td>Male</td>\n",
       "      <td>1</td>\n",
       "      <td>OWENS</td>\n",
       "      <td>1</td>\n",
       "    </tr>\n",
       "    <tr>\n",
       "      <th>6263</th>\n",
       "      <td>00:16:28</td>\n",
       "      <td>None</td>\n",
       "      <td>2016-11-17 00:16:31</td>\n",
       "      <td>Conor</td>\n",
       "      <td>Male</td>\n",
       "      <td>2</td>\n",
       "      <td>MCGUINNESS</td>\n",
       "      <td>2</td>\n",
       "    </tr>\n",
       "    <tr>\n",
       "      <th>5055</th>\n",
       "      <td>00:16:47</td>\n",
       "      <td>Ammeonians</td>\n",
       "      <td>2016-11-17 00:16:49</td>\n",
       "      <td>Vincent</td>\n",
       "      <td>Male</td>\n",
       "      <td>3</td>\n",
       "      <td>MCGUINNESS</td>\n",
       "      <td>3</td>\n",
       "    </tr>\n",
       "    <tr>\n",
       "      <th>4685</th>\n",
       "      <td>00:17:14</td>\n",
       "      <td>None</td>\n",
       "      <td>2016-11-17 00:17:23</td>\n",
       "      <td>Ben</td>\n",
       "      <td>Male</td>\n",
       "      <td>4</td>\n",
       "      <td>MCDONALD</td>\n",
       "      <td>4</td>\n",
       "    </tr>\n",
       "    <tr>\n",
       "      <th>8419</th>\n",
       "      <td>00:17:58</td>\n",
       "      <td>None</td>\n",
       "      <td>2016-11-17 00:18:05</td>\n",
       "      <td>Jamie</td>\n",
       "      <td>Male</td>\n",
       "      <td>5</td>\n",
       "      <td>GAHAN</td>\n",
       "      <td>5</td>\n",
       "    </tr>\n",
       "  </tbody>\n",
       "</table>\n",
       "</div>"
      ],
      "text/plain": [
       "     chip_time                club         finish_time first_name gender  \\\n",
       "bib                                                                        \n",
       "8609  00:16:04  Clonliffe Harriers 2016-11-17 00:16:06    Richard   Male   \n",
       "6263  00:16:28                None 2016-11-17 00:16:31      Conor   Male   \n",
       "5055  00:16:47          Ammeonians 2016-11-17 00:16:49    Vincent   Male   \n",
       "4685  00:17:14                None 2016-11-17 00:17:23        Ben   Male   \n",
       "8419  00:17:58                None 2016-11-17 00:18:05      Jamie   Male   \n",
       "\n",
       "      gender_pos   last_name  rank  \n",
       "bib                                 \n",
       "8609           1       OWENS     1  \n",
       "6263           2  MCGUINNESS     2  \n",
       "5055           3  MCGUINNESS     3  \n",
       "4685           4    MCDONALD     4  \n",
       "8419           5       GAHAN     5  "
      ]
     },
     "execution_count": 19,
     "metadata": {},
     "output_type": "execute_result"
    }
   ],
   "source": [
    "dfDublin5k2016.head()"
   ]
  },
  {
   "cell_type": "code",
   "execution_count": 32,
   "metadata": {
    "collapsed": false
   },
   "outputs": [
    {
     "data": {
      "text/plain": [
       "<bound method IndexOpsMixin.value_counts of bib\n",
       "8609        Richard\n",
       "6263          Conor\n",
       "5055        Vincent\n",
       "4685            Ben\n",
       "8419          Jamie\n",
       "4147         Eoghan\n",
       "5151        Patrick\n",
       "3811         Hannah\n",
       "7416        Padraig\n",
       "7633            Rob\n",
       "7828          Billy\n",
       "7593          Colin\n",
       "1              John\n",
       "6615           Hugh\n",
       "8991          Brian\n",
       "8354          David\n",
       "5439           John\n",
       "11616          Evan\n",
       "6856          Fionn\n",
       "4916          Conor\n",
       "5340        Anthony\n",
       "2173            Bob\n",
       "8252         Robert\n",
       "8791        Bernard\n",
       "5966       Jonathan\n",
       "8062        Darragh\n",
       "5014        Maurice\n",
       "6695            Ben\n",
       "2933         Joseph\n",
       "1879         Ciaran\n",
       "            ...    \n",
       "813          Muriel\n",
       "814          Olivia\n",
       "830             Ann\n",
       "859         Siobhan\n",
       "862            Mags\n",
       "865      Jacqueline\n",
       "866           Linda\n",
       "784             Meg\n",
       "786            Anna\n",
       "779            Mags\n",
       "767            Abby\n",
       "768          Teresa\n",
       "765        Jennifer\n",
       "717          Claire\n",
       "660            Lynn\n",
       "643          Pamela\n",
       "646        Vivienne\n",
       "524        Caroline\n",
       "525          Marion\n",
       "521         Deirdre\n",
       "534           Sasha\n",
       "536         Padraic\n",
       "541            Mary\n",
       "545           Fiona\n",
       "616          Angela\n",
       "604          Elaine\n",
       "605           Sarah\n",
       "634           Naomi\n",
       "637         Gillian\n",
       "638            Lisa\n",
       "Name: first_name, dtype: object>"
      ]
     },
     "execution_count": 32,
     "metadata": {},
     "output_type": "execute_result"
    }
   ],
   "source": [
    "dfDublin5k2016.first_name.value_counts"
   ]
  },
  {
   "cell_type": "code",
   "execution_count": 56,
   "metadata": {
    "collapsed": false
   },
   "outputs": [],
   "source": [
    "firstnames = dfDublin5k2016.first_name.value_counts()[0:20]"
   ]
  },
  {
   "cell_type": "code",
   "execution_count": 57,
   "metadata": {
    "collapsed": false
   },
   "outputs": [
    {
     "data": {
      "text/plain": [
       "<matplotlib.axes._subplots.AxesSubplot at 0x28a93c29dd8>"
      ]
     },
     "execution_count": 57,
     "metadata": {},
     "output_type": "execute_result"
    },
    {
     "data": {
      "image/png": "[encoded data removed]",
      "text/plain": [
       "<matplotlib.figure.Figure at 0x28a93c52828>"
      ]
     },
     "metadata": {},
     "output_type": "display_data"
    }
   ],
   "source": [
    "firstnames.plot(kind='bar')"
   ]
  },
  {
   "cell_type": "code",
   "execution_count": 58,
   "metadata": {
    "collapsed": false
   },
   "outputs": [
    {
     "data": {
      "text/plain": [
       "<matplotlib.axes._subplots.AxesSubplot at 0x28a917fb630>"
      ]
     },
     "execution_count": 58,
     "metadata": {},
     "output_type": "execute_result"
    },
    {
     "data": {
      "image/png": "[encoded data removed]",
      "text/plain": [
       "<matplotlib.figure.Figure at 0x28a93cb8f60>"
      ]
     },
     "metadata": {},
     "output_type": "display_data"
    }
   ],
   "source": [
    "dfDublin5k2016.last_name.value_counts()[0:20].plot(kind='bar')"
   ]
  },
  {
   "cell_type": "code",
   "execution_count": null,
   "metadata": {
    "collapsed": true
   },
   "outputs": [],
   "source": []
  }
 ],
 "metadata": {
  "kernelspec": {
   "display_name": "Python [default]",
   "language": "python",
   "name": "python3"
  },
  "language_info": {
   "codemirror_mode": {
    "name": "ipython",
    "version": 3
   },
   "file_extension": ".py",
   "mimetype": "text/x-python",
   "name": "python",
   "nbconvert_exporter": "python",
   "pygments_lexer": "ipython3",
   "version": "3.5.2"
  }
 },
 "nbformat": 4,
 "nbformat_minor": 1
}
