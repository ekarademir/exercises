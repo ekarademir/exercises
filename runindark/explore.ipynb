{
 "cells": [
  {
   "cell_type": "code",
   "execution_count": 1,
   "metadata": {
    "collapsed": true
   },
   "outputs": [],
   "source": [
    "import pandas as pd\n",
    "import matplotlib.pyplot as plt\n",
    "from matplotlib import style\n",
    "import numpy as np\n",
    "style.use('ggplot')"
   ]
  },
  {
   "cell_type": "code",
   "execution_count": 35,
   "metadata": {
    "collapsed": false
   },
   "outputs": [],
   "source": [
    "import json\n",
    "import codecs\n",
    "from os import listdir"
   ]
  },
  {
   "cell_type": "code",
   "execution_count": 5,
   "metadata": {
    "collapsed": true
   },
   "outputs": [],
   "source": [
    "with codecs.open('./data/DRID_2016_5k.json','r','utf-8') as f:\n",
    "    data = f.read()"
   ]
  },
  {
   "cell_type": "code",
   "execution_count": 6,
   "metadata": {
    "collapsed": false
   },
   "outputs": [
    {
     "data": {
      "text/plain": [
       "702694"
      ]
     },
     "execution_count": 6,
     "metadata": {},
     "output_type": "execute_result"
    }
   ],
   "source": [
    "len(data)"
   ]
  },
  {
   "cell_type": "code",
   "execution_count": 7,
   "metadata": {
    "collapsed": true
   },
   "outputs": [],
   "source": [
    "dublin5k = json.loads(data)"
   ]
  },
  {
   "cell_type": "code",
   "execution_count": 9,
   "metadata": {
    "collapsed": false
   },
   "outputs": [
    {
     "name": "stdout",
     "output_type": "stream",
     "text": [
      "<class 'dict'>\n"
     ]
    }
   ],
   "source": [
    "print(type(dublin5k))"
   ]
  },
  {
   "cell_type": "code",
   "execution_count": 15,
   "metadata": {
    "collapsed": false
   },
   "outputs": [
    {
     "name": "stdout",
     "output_type": "stream",
     "text": [
      "{'first_name': 'Richard', 'last_name': 'OWENS', 'club': 'Clonliffe Harriers', 'chip_time': '00:16:04', 'gender': 'Male', 'finish_time': '00:16:06', 'gender_pos': '1', 'bib': '8609', 'rank': '1'}\n"
     ]
    }
   ],
   "source": [
    "print(dublin5k['data'][0])"
   ]
  },
  {
   "cell_type": "code",
   "execution_count": 20,
   "metadata": {
    "collapsed": false
   },
   "outputs": [],
   "source": [
    "dfDublin5k = pd.DataFrame(dublin5k['data'][0], index=[0])"
   ]
  },
  {
   "cell_type": "code",
   "execution_count": 22,
   "metadata": {
    "collapsed": false
   },
   "outputs": [],
   "source": [
    "for i in range(1, len(dublin5k['data'])):\n",
    "    dfDublin5k.append(dublin5k['data'][i], ignore_index=True)"
   ]
  },
  {
   "cell_type": "code",
   "execution_count": 23,
   "metadata": {
    "collapsed": false
   },
   "outputs": [
    {
     "data": {
      "text/html": [
       "<div>\n",
       "<table border=\"1\" class=\"dataframe\">\n",
       "  <thead>\n",
       "    <tr style=\"text-align: right;\">\n",
       "      <th></th>\n",
       "      <th>bib</th>\n",
       "      <th>chip_time</th>\n",
       "      <th>club</th>\n",
       "      <th>finish_time</th>\n",
       "      <th>first_name</th>\n",
       "      <th>gender</th>\n",
       "      <th>gender_pos</th>\n",
       "      <th>last_name</th>\n",
       "      <th>rank</th>\n",
       "    </tr>\n",
       "  </thead>\n",
       "  <tbody>\n",
       "    <tr>\n",
       "      <th>0</th>\n",
       "      <td>8609</td>\n",
       "      <td>00:16:04</td>\n",
       "      <td>Clonliffe Harriers</td>\n",
       "      <td>00:16:06</td>\n",
       "      <td>Richard</td>\n",
       "      <td>Male</td>\n",
       "      <td>1</td>\n",
       "      <td>OWENS</td>\n",
       "      <td>1</td>\n",
       "    </tr>\n",
       "  </tbody>\n",
       "</table>\n",
       "</div>"
      ],
      "text/plain": [
       "    bib chip_time                club finish_time first_name gender  \\\n",
       "0  8609  00:16:04  Clonliffe Harriers    00:16:06    Richard   Male   \n",
       "\n",
       "  gender_pos last_name rank  \n",
       "0          1     OWENS    1  "
      ]
     },
     "execution_count": 23,
     "metadata": {},
     "output_type": "execute_result"
    }
   ],
   "source": [
    "dfDublin5k.head()"
   ]
  },
  {
   "cell_type": "code",
   "execution_count": 25,
   "metadata": {
    "collapsed": false
   },
   "outputs": [
    {
     "data": {
      "text/html": [
       "<div>\n",
       "<table border=\"1\" class=\"dataframe\">\n",
       "  <thead>\n",
       "    <tr style=\"text-align: right;\">\n",
       "      <th></th>\n",
       "      <th>0</th>\n",
       "      <th>1</th>\n",
       "      <th>2</th>\n",
       "      <th>3</th>\n",
       "      <th>4</th>\n",
       "      <th>5</th>\n",
       "      <th>6</th>\n",
       "      <th>7</th>\n",
       "      <th>8</th>\n",
       "      <th>9</th>\n",
       "      <th>...</th>\n",
       "      <th>4126</th>\n",
       "      <th>4127</th>\n",
       "      <th>4128</th>\n",
       "      <th>4129</th>\n",
       "      <th>4130</th>\n",
       "      <th>4131</th>\n",
       "      <th>4132</th>\n",
       "      <th>4133</th>\n",
       "      <th>4134</th>\n",
       "      <th>4135</th>\n",
       "    </tr>\n",
       "  </thead>\n",
       "  <tbody>\n",
       "    <tr>\n",
       "      <th>data</th>\n",
       "      <td>{'first_name': 'Richard', 'last_name': 'OWENS'...</td>\n",
       "      <td>{'first_name': 'Conor', 'last_name': 'MCGUINNE...</td>\n",
       "      <td>{'first_name': 'Vincent', 'last_name': 'MCGUIN...</td>\n",
       "      <td>{'first_name': 'Ben', 'last_name': 'MCDONALD',...</td>\n",
       "      <td>{'first_name': 'Jamie', 'last_name': 'GAHAN', ...</td>\n",
       "      <td>{'first_name': 'Eoghan', 'last_name': 'KEANEY'...</td>\n",
       "      <td>{'first_name': 'Patrick', 'last_name': 'COYLE'...</td>\n",
       "      <td>{'first_name': 'Hannah', 'last_name': 'LINNEY'...</td>\n",
       "      <td>{'first_name': 'Padraig', 'last_name': 'MAHONY...</td>\n",
       "      <td>{'first_name': 'Rob', 'last_name': 'DEVLIN', '...</td>\n",
       "      <td>...</td>\n",
       "      <td>{'first_name': 'Sasha', 'last_name': 'WILSON',...</td>\n",
       "      <td>{'first_name': 'Padraic', 'last_name': 'MULDOO...</td>\n",
       "      <td>{'first_name': 'Mary', 'last_name': 'O'NEILL',...</td>\n",
       "      <td>{'first_name': 'Fiona', 'last_name': 'O'HARA',...</td>\n",
       "      <td>{'first_name': 'Angela', 'last_name': 'ROCHE',...</td>\n",
       "      <td>{'first_name': 'Elaine', 'last_name': 'MAHER',...</td>\n",
       "      <td>{'first_name': 'Sarah', 'last_name': 'LOUGHMAN...</td>\n",
       "      <td>{'first_name': 'Naomi', 'last_name': 'BYRNE', ...</td>\n",
       "      <td>{'first_name': 'Gillian', 'last_name': 'WHELAN...</td>\n",
       "      <td>{'first_name': 'Lisa', 'last_name': 'CLINCH', ...</td>\n",
       "    </tr>\n",
       "  </tbody>\n",
       "</table>\n",
       "<p>1 rows × 4136 columns</p>\n",
       "</div>"
      ],
      "text/plain": [
       "                                                   0     \\\n",
       "data  {'first_name': 'Richard', 'last_name': 'OWENS'...   \n",
       "\n",
       "                                                   1     \\\n",
       "data  {'first_name': 'Conor', 'last_name': 'MCGUINNE...   \n",
       "\n",
       "                                                   2     \\\n",
       "data  {'first_name': 'Vincent', 'last_name': 'MCGUIN...   \n",
       "\n",
       "                                                   3     \\\n",
       "data  {'first_name': 'Ben', 'last_name': 'MCDONALD',...   \n",
       "\n",
       "                                                   4     \\\n",
       "data  {'first_name': 'Jamie', 'last_name': 'GAHAN', ...   \n",
       "\n",
       "                                                   5     \\\n",
       "data  {'first_name': 'Eoghan', 'last_name': 'KEANEY'...   \n",
       "\n",
       "                                                   6     \\\n",
       "data  {'first_name': 'Patrick', 'last_name': 'COYLE'...   \n",
       "\n",
       "                                                   7     \\\n",
       "data  {'first_name': 'Hannah', 'last_name': 'LINNEY'...   \n",
       "\n",
       "                                                   8     \\\n",
       "data  {'first_name': 'Padraig', 'last_name': 'MAHONY...   \n",
       "\n",
       "                                                   9     \\\n",
       "data  {'first_name': 'Rob', 'last_name': 'DEVLIN', '...   \n",
       "\n",
       "                            ...                          \\\n",
       "data                        ...                           \n",
       "\n",
       "                                                   4126  \\\n",
       "data  {'first_name': 'Sasha', 'last_name': 'WILSON',...   \n",
       "\n",
       "                                                   4127  \\\n",
       "data  {'first_name': 'Padraic', 'last_name': 'MULDOO...   \n",
       "\n",
       "                                                   4128  \\\n",
       "data  {'first_name': 'Mary', 'last_name': 'O'NEILL',...   \n",
       "\n",
       "                                                   4129  \\\n",
       "data  {'first_name': 'Fiona', 'last_name': 'O'HARA',...   \n",
       "\n",
       "                                                   4130  \\\n",
       "data  {'first_name': 'Angela', 'last_name': 'ROCHE',...   \n",
       "\n",
       "                                                   4131  \\\n",
       "data  {'first_name': 'Elaine', 'last_name': 'MAHER',...   \n",
       "\n",
       "                                                   4132  \\\n",
       "data  {'first_name': 'Sarah', 'last_name': 'LOUGHMAN...   \n",
       "\n",
       "                                                   4133  \\\n",
       "data  {'first_name': 'Naomi', 'last_name': 'BYRNE', ...   \n",
       "\n",
       "                                                   4134  \\\n",
       "data  {'first_name': 'Gillian', 'last_name': 'WHELAN...   \n",
       "\n",
       "                                                   4135  \n",
       "data  {'first_name': 'Lisa', 'last_name': 'CLINCH', ...  \n",
       "\n",
       "[1 rows x 4136 columns]"
      ]
     },
     "execution_count": 25,
     "metadata": {},
     "output_type": "execute_result"
    }
   ],
   "source": [
    "pd.read_json(data,orient='index')"
   ]
  },
  {
   "cell_type": "code",
   "execution_count": 28,
   "metadata": {
    "collapsed": false
   },
   "outputs": [
    {
     "data": {
      "text/plain": [
       "'{\"data\":'"
      ]
     },
     "execution_count": 28,
     "metadata": {},
     "output_type": "execute_result"
    }
   ],
   "source": [
    "data[0:8]"
   ]
  },
  {
   "cell_type": "code",
   "execution_count": 31,
   "metadata": {
    "collapsed": false
   },
   "outputs": [
    {
     "data": {
      "text/plain": [
       "'}'"
      ]
     },
     "execution_count": 31,
     "metadata": {},
     "output_type": "execute_result"
    }
   ],
   "source": [
    "data[-1:]"
   ]
  },
  {
   "cell_type": "code",
   "execution_count": 33,
   "metadata": {
    "collapsed": false
   },
   "outputs": [],
   "source": [
    "dfDublin5k = pd.read_json(data[8:-1])"
   ]
  },
  {
   "cell_type": "code",
   "execution_count": 34,
   "metadata": {
    "collapsed": false
   },
   "outputs": [
    {
     "data": {
      "text/html": [
       "<div>\n",
       "<table border=\"1\" class=\"dataframe\">\n",
       "  <thead>\n",
       "    <tr style=\"text-align: right;\">\n",
       "      <th></th>\n",
       "      <th>bib</th>\n",
       "      <th>chip_time</th>\n",
       "      <th>club</th>\n",
       "      <th>finish_time</th>\n",
       "      <th>first_name</th>\n",
       "      <th>gender</th>\n",
       "      <th>gender_pos</th>\n",
       "      <th>last_name</th>\n",
       "      <th>rank</th>\n",
       "    </tr>\n",
       "  </thead>\n",
       "  <tbody>\n",
       "    <tr>\n",
       "      <th>0</th>\n",
       "      <td>8609</td>\n",
       "      <td>00:16:04</td>\n",
       "      <td>Clonliffe Harriers</td>\n",
       "      <td>2016-11-17 00:16:06</td>\n",
       "      <td>Richard</td>\n",
       "      <td>Male</td>\n",
       "      <td>1</td>\n",
       "      <td>OWENS</td>\n",
       "      <td>1</td>\n",
       "    </tr>\n",
       "    <tr>\n",
       "      <th>1</th>\n",
       "      <td>6263</td>\n",
       "      <td>00:16:28</td>\n",
       "      <td>None</td>\n",
       "      <td>2016-11-17 00:16:31</td>\n",
       "      <td>Conor</td>\n",
       "      <td>Male</td>\n",
       "      <td>2</td>\n",
       "      <td>MCGUINNESS</td>\n",
       "      <td>2</td>\n",
       "    </tr>\n",
       "    <tr>\n",
       "      <th>2</th>\n",
       "      <td>5055</td>\n",
       "      <td>00:16:47</td>\n",
       "      <td>Ammeonians</td>\n",
       "      <td>2016-11-17 00:16:49</td>\n",
       "      <td>Vincent</td>\n",
       "      <td>Male</td>\n",
       "      <td>3</td>\n",
       "      <td>MCGUINNESS</td>\n",
       "      <td>3</td>\n",
       "    </tr>\n",
       "    <tr>\n",
       "      <th>3</th>\n",
       "      <td>4685</td>\n",
       "      <td>00:17:14</td>\n",
       "      <td>None</td>\n",
       "      <td>2016-11-17 00:17:23</td>\n",
       "      <td>Ben</td>\n",
       "      <td>Male</td>\n",
       "      <td>4</td>\n",
       "      <td>MCDONALD</td>\n",
       "      <td>4</td>\n",
       "    </tr>\n",
       "    <tr>\n",
       "      <th>4</th>\n",
       "      <td>8419</td>\n",
       "      <td>00:17:58</td>\n",
       "      <td>None</td>\n",
       "      <td>2016-11-17 00:18:05</td>\n",
       "      <td>Jamie</td>\n",
       "      <td>Male</td>\n",
       "      <td>5</td>\n",
       "      <td>GAHAN</td>\n",
       "      <td>5</td>\n",
       "    </tr>\n",
       "  </tbody>\n",
       "</table>\n",
       "</div>"
      ],
      "text/plain": [
       "    bib chip_time                club         finish_time first_name gender  \\\n",
       "0  8609  00:16:04  Clonliffe Harriers 2016-11-17 00:16:06    Richard   Male   \n",
       "1  6263  00:16:28                None 2016-11-17 00:16:31      Conor   Male   \n",
       "2  5055  00:16:47          Ammeonians 2016-11-17 00:16:49    Vincent   Male   \n",
       "3  4685  00:17:14                None 2016-11-17 00:17:23        Ben   Male   \n",
       "4  8419  00:17:58                None 2016-11-17 00:18:05      Jamie   Male   \n",
       "\n",
       "   gender_pos   last_name  rank  \n",
       "0           1       OWENS     1  \n",
       "1           2  MCGUINNESS     2  \n",
       "2           3  MCGUINNESS     3  \n",
       "3           4    MCDONALD     4  \n",
       "4           5       GAHAN     5  "
      ]
     },
     "execution_count": 34,
     "metadata": {},
     "output_type": "execute_result"
    }
   ],
   "source": [
    "dfDublin5k.head()"
   ]
  },
  {
   "cell_type": "code",
   "execution_count": 36,
   "metadata": {
    "collapsed": false
   },
   "outputs": [
    {
     "data": {
      "text/plain": [
       "['BelfastRID_2012_10k.json',\n",
       " 'BelfastRID_2012_5k.json',\n",
       " 'BelfastRID_2013_10k.json',\n",
       " 'BelfastRID_2013_5k.json',\n",
       " 'BelfastRID_2014_10k.json',\n",
       " 'BelfastRID_2014_5k.json',\n",
       " 'BelfastRID_2015_10k.json',\n",
       " 'BelfastRID_2015_5k.json',\n",
       " 'BelfastRID_2016_10k.json',\n",
       " 'BelfastRID_2016_5k.json',\n",
       " 'CorkRID_2012_10k.json',\n",
       " 'CorkRID_2012_5k.json',\n",
       " 'CorkRID_2013_10k.json',\n",
       " 'CorkRID_2013_5k.json',\n",
       " 'CorkRID_2014_10k.json',\n",
       " 'CorkRID_2014_5k.json',\n",
       " 'CorkRID_2015_10k.json',\n",
       " 'CorkRID_2015_5k.json',\n",
       " 'CorkRID_2016_10k.json',\n",
       " 'CorkRID_2016_5k.json',\n",
       " 'DRID_2012_10k.json',\n",
       " 'DRID_2012_5k.json',\n",
       " 'DRID_2013_10k.json',\n",
       " 'DRID_2013_5k.json',\n",
       " 'DRID_2014_10k.json',\n",
       " 'DRID_2014_5k.json',\n",
       " 'DRID_2015_10k.json',\n",
       " 'DRID_2015_5k.json',\n",
       " 'DRID_2016_10k.json',\n",
       " 'DRID_2016_5k.json',\n",
       " 'LondonRID_2012_10k.json',\n",
       " 'LondonRID_2012_5k.json',\n",
       " 'LondonRID_2013_10k.json',\n",
       " 'LondonRID_2013_5k.json',\n",
       " 'LondonRID_2014_10k.json',\n",
       " 'LondonRID_2014_5k.json',\n",
       " 'LondonRID_2015_10k.json',\n",
       " 'LondonRID_2015_5k.json',\n",
       " 'LondonRID_2016_10k.json',\n",
       " 'LondonRID_2016_5k.json',\n",
       " 'ManchesterRID_2013_10k.json',\n",
       " 'ManchesterRID_2013_5k.json',\n",
       " 'ManchesterRID_2014_10k.json',\n",
       " 'ManchesterRID_2014_5k.json',\n",
       " 'ManchesterRID_2015_10k.json',\n",
       " 'ManchesterRID_2015_5k.json',\n",
       " 'ManchesterRID_2016_10k.json',\n",
       " 'ManchesterRID_2016_5k.json']"
      ]
     },
     "execution_count": 36,
     "metadata": {},
     "output_type": "execute_result"
    }
   ],
   "source": [
    "listdir('./data')"
   ]
  },
  {
   "cell_type": "code",
   "execution_count": null,
   "metadata": {
    "collapsed": true
   },
   "outputs": [],
   "source": []
  }
 ],
 "metadata": {
  "anaconda-cloud": {},
  "kernelspec": {
   "display_name": "Python [default]",
   "language": "python",
   "name": "python3"
  },
  "language_info": {
   "codemirror_mode": {
    "name": "ipython",
    "version": 3
   },
   "file_extension": ".py",
   "mimetype": "text/x-python",
   "name": "python",
   "nbconvert_exporter": "python",
   "pygments_lexer": "ipython3",
   "version": "3.5.2"
  }
 },
 "nbformat": 4,
 "nbformat_minor": 1
}
